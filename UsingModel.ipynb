{
 "cells": [
  {
   "cell_type": "markdown",
   "metadata": {},
   "source": [
    "Using the Model module\n",
    "===================="
   ]
  },
  {
   "cell_type": "markdown",
   "metadata": {},
   "source": [
    "Most users of pySCATMECH will not use the Model module directly. It is used for accessing features common to all models in pySCATMECH. However, if the user is creating a graphical user interface, some of these features may be helpful. "
   ]
  },
  {
   "cell_type": "code",
   "execution_count": 1,
   "metadata": {},
   "outputs": [],
   "source": [
    "from pySCATMECH.model import *"
   ]
  },
  {
   "cell_type": "markdown",
   "metadata": {},
   "source": [
    "You can access a dictionary containing every model that inherits a specific model in SCATMECH.  Each model has a brief description and a parent model, accessible with the `'description'` and `'parent'` keys. In the following, we see the models that inherit `'Roughness_BRDF_Model'` (these are models which require power spectral density functions to describe roughness)."
   ]
  },
  {
   "cell_type": "code",
   "execution_count": 2,
   "metadata": {},
   "outputs": [
    {
     "name": "stdout",
     "output_type": "stream",
     "text": [
      "{'Roughness_BRDF_Model' : {'description' : 'Scattering by a rough surface in the smooth surface limit.',\n",
      "                           'parent' : 'BRDF_Model'},\n",
      "'Microroughness_BRDF_Model' : {'description' : 'Scattering by a single rough surface in the smooth-surface limit (no films).',\n",
      "                                'parent' : 'Roughness_BRDF_Model'},\n",
      "'Correlated_Roughness_BRDF_Model' : {'description' : 'Scattering from a single dielectric layer on a substrate with equal and correlated roughness.',\n",
      "                                      'parent' : 'Roughness_BRDF_Model'},\n",
      "'Roughness_Stack_BRDF_Model' : {'description' : 'Scattering by a single rough interface in a stack of films.',\n",
      "                                 'parent' : 'Roughness_BRDF_Model'},\n",
      "'Correlated_Roughness_Stack_BRDF_Model' : {'description' : 'All films in a stack equally rough and correlated',\n",
      "                                            'parent' : 'Roughness_BRDF_Model'},\n",
      "'Uncorrelated_Roughness_Stack_BRDF_Model' : {'description' : 'All films in a stack equally rough but uncorrelated',\n",
      "                                              'parent' : 'Roughness_BRDF_Model'},\n",
      "'Growth_Roughness_Stack_BRDF_Model' : {'description' : 'All films in a stack having intrinsic roughness, but also correlation with roughness from the stack below.',\n",
      "                                        'parent' : 'Roughness_BRDF_Model'},\n",
      "'Two_Face_BRDF_Model' : {'description' : 'Scattering by a single rough interface of a single dielectric film.',\n",
      "                          'parent' : 'Roughness_BRDF_Model'}}\n"
     ]
    }
   ],
   "source": [
    "modelDictionary = getModelDictionary('Roughness_BRDF_Model')\n",
    "printDictOfDict(modelDictionary)"
   ]
  },
  {
   "cell_type": "markdown",
   "metadata": {},
   "source": [
    "We can create an instance of any model using `Model`. Note that the only functionality that is availalble to `Model` is the access to its parameters. (Remember: classes that inherit `Model`, e.g., `BRDF_Model`, `Local_BRDF_Model`, `Free_Space_Scatterer`, `RCW_Model`, and `Cross_RCW_Model`, have additional functionality that make them useful for their specific applictions.)"
   ]
  },
  {
   "cell_type": "code",
   "execution_count": 6,
   "metadata": {},
   "outputs": [
    {
     "name": "stdout",
     "output_type": "stream",
     "text": [
      "printParameters() returns:\n",
      "A = 0.01 (double: Power Spectrum A Parameter [um^4])\n",
      "B = 362 (double: Power Spectrum B Parameter [um])\n",
      "C = 2.5 (double: Power Spectrum C Parameter)\n",
      "\n",
      "\n",
      "getParameters() returns:\n",
      "{None: 'ABC_PSD_Function', 'A': '0.01', 'B': '362', 'C': '2.5'}\n",
      "\n",
      "getParameterDictionary() returns:\n",
      "{'A' : {'value' : '0.01',\n",
      "        'description' : 'Power Spectrum A Parameter [um^4]',\n",
      "        'type' : 'double',\n",
      "        'default' : '0.01'},\n",
      "'B' : {'value' : '362',\n",
      "        'description' : 'Power Spectrum B Parameter [um]',\n",
      "        'type' : 'double',\n",
      "        'default' : '362'},\n",
      "'C' : {'value' : '2.5',\n",
      "        'description' : 'Power Spectrum C Parameter',\n",
      "        'type' : 'double',\n",
      "        'default' : '2.5'}}\n"
     ]
    }
   ],
   "source": [
    "psdFunction = Model(\"ABC_PSD_Function\")\n",
    "print(\"printParameters() returns:\")\n",
    "print(psdFunction.printParameters())\n",
    "\n",
    "print(\"\\ngetParameters() returns:\")\n",
    "print(psdFunction.getParameters())\n",
    "\n",
    "print(\"\\ngetParameterDictionary() returns:\")\n",
    "printDictOfDict(psdFunction.getParameterDictionary())\n"
   ]
  },
  {
   "cell_type": "code",
   "execution_count": 7,
   "metadata": {},
   "outputs": [
    {
     "data": {
      "text/plain": [
       "{None: 'ABC_PSD_Function', 'A': '0.2', 'B': '362', 'C': '2.5'}"
      ]
     },
     "execution_count": 7,
     "metadata": {},
     "output_type": "execute_result"
    }
   ],
   "source": [
    "psdFunction.setParameter('A',0.2)\n",
    "psdFunction.getParameters()"
   ]
  },
  {
   "cell_type": "code",
   "execution_count": 8,
   "metadata": {},
   "outputs": [
    {
     "name": "stdout",
     "output_type": "stream",
     "text": [
      "{None : 'Bobbert_Vlieger_BRDF_Model',\n",
      "'lambda' : '0.633',\n",
      "'substrate' : '(1.56,0.2)',\n",
      "'type' : '0',\n",
      "'density' : '1',\n",
      "'sphere' : '(1.59,0)',\n",
      "'radius' : '1',\n",
      "'spherecoat' : 'No_StackModel',\n",
      "'stack' : {None : 'SingleFilm_StackModel',\n",
      "            'material' : '(1.5,0)',\n",
      "            'thickness' : '0.1'},\n",
      "'delta' : '0',\n",
      "'lmax' : '0',\n",
      "'order' : '-1',\n",
      "'Norm_Inc_Approx' : '0',\n",
      "'improve' : '3'}\n"
     ]
    }
   ],
   "source": [
    "parameters ={None : 'Bobbert_Vlieger_BRDF_Model',\n",
    "              'lambda': '0.633',\n",
    "              'substrate': '(1.56,0.2)',\n",
    "              'type': '0',\n",
    "              'density': '1',\n",
    "              'sphere': '(1.59,0)',\n",
    "              'radius': '1',\n",
    "              'spherecoat': 'No_StackModel',\n",
    "              'stack': 'SingleFilm_StackModel',\n",
    "              'delta': '0'} \n",
    "model = Model(parameters)\n",
    "print(model)"
   ]
  },
  {
   "cell_type": "code",
   "execution_count": 9,
   "metadata": {},
   "outputs": [
    {
     "name": "stdout",
     "output_type": "stream",
     "text": [
      "{'lambda' : {'value' : '0.633',\n",
      "             'description' : 'Wavelength [um]',\n",
      "             'type' : 'double',\n",
      "             'default' : '0.532'},\n",
      "'substrate' : {'value' : '(1.56,0.2)',\n",
      "                'description' : 'Substrate',\n",
      "                'type' : 'dielectric_function',\n",
      "                'default' : '(4.05,0.05)'},\n",
      "'type' : {'value' : '0',\n",
      "           'description' : '(0) for Forward/Reflection, (1) for Forward/Transmission, (2) for Backward/Reflection, or (3) for Backward/Transmission',\n",
      "           'type' : 'int',\n",
      "           'default' : '0'},\n",
      "'density' : {'value' : '1',\n",
      "              'description' : 'Density [um^-2]',\n",
      "              'type' : 'double',\n",
      "              'default' : '1'},\n",
      "'sphere' : {'value' : '(1.59,0)',\n",
      "             'description' : 'Sphere optical properties',\n",
      "             'type' : 'dielectric_function',\n",
      "             'default' : '(1.59,0)'},\n",
      "'radius' : {'value' : '1',\n",
      "             'description' : 'Particle radius [um]',\n",
      "             'type' : 'double',\n",
      "             'default' : '0.05'},\n",
      "'spherecoat' : {'value' : 'No_StackModel',\n",
      "                 'description' : 'Coatings on the sphere',\n",
      "                 'type' : 'StackModel_Ptr',\n",
      "                 'default' : 'No_StackModel'},\n",
      "'stack' : {'value' : 'SingleFilm_StackModel',\n",
      "            'description' : 'Substrate films',\n",
      "            'type' : 'StackModel_Ptr',\n",
      "            'default' : 'No_StackModel'},\n",
      "'stack.material' : {'value' : '(1.5,0)',\n",
      "                     'description' : 'Material',\n",
      "                     'type' : 'dielectric_function',\n",
      "                     'default' : '(1.5,0)'},\n",
      "'stack.thickness' : {'value' : '0.1',\n",
      "                      'description' : 'Thickness [um]',\n",
      "                      'type' : 'double',\n",
      "                      'default' : '0.1'},\n",
      "'delta' : {'value' : '0',\n",
      "            'description' : 'Separation of particle from substrate [um] (in contact: 0)',\n",
      "            'type' : 'double',\n",
      "            'default' : '0'},\n",
      "'lmax' : {'value' : '0',\n",
      "           'description' : 'Maximum spherical harmonic order (use Bohren & Huffman estimate: 0)',\n",
      "           'type' : 'int',\n",
      "           'default' : '0'},\n",
      "'order' : {'value' : '-1',\n",
      "            'description' : 'Perturbation order (exact: -1)',\n",
      "            'type' : 'int',\n",
      "            'default' : '-1'},\n",
      "'Norm_Inc_Approx' : {'value' : '0',\n",
      "                      'description' : 'Normal Incidence Approximation (exact: 0)',\n",
      "                      'type' : 'int',\n",
      "                      'default' : '0'},\n",
      "'improve' : {'value' : '3',\n",
      "              'description' : 'Iterative improvement steps (recommend: 3)',\n",
      "              'type' : 'int',\n",
      "              'default' : '3'}}\n"
     ]
    }
   ],
   "source": [
    "printDictOfDict(model.getParameterDictionary())"
   ]
  },
  {
   "cell_type": "code",
   "execution_count": 10,
   "metadata": {},
   "outputs": [
    {
     "data": {
      "text/plain": [
       "'1'"
      ]
     },
     "execution_count": 10,
     "metadata": {},
     "output_type": "execute_result"
    }
   ],
   "source": [
    "model.getParameter('radius')"
   ]
  },
  {
   "cell_type": "code",
   "execution_count": 11,
   "metadata": {},
   "outputs": [
    {
     "data": {
      "text/plain": [
       "'Bobbert_Vlieger_BRDF_Model'"
      ]
     },
     "execution_count": 11,
     "metadata": {},
     "output_type": "execute_result"
    }
   ],
   "source": [
    "model.getModelName()"
   ]
  },
  {
   "cell_type": "code",
   "execution_count": 12,
   "metadata": {},
   "outputs": [
    {
     "name": "stdout",
     "output_type": "stream",
     "text": [
      "{None : 'Bobbert_Vlieger_BRDF_Model',\n",
      "'lambda' : '0.532',\n",
      "'substrate' : '(4.05,0.05)',\n",
      "'type' : '0',\n",
      "'density' : '1',\n",
      "'sphere' : '(1.59,0)',\n",
      "'radius' : '0.05',\n",
      "'spherecoat' : 'No_StackModel',\n",
      "'stack' : 'No_StackModel',\n",
      "'delta' : '0',\n",
      "'lmax' : '0',\n",
      "'order' : '-1',\n",
      "'Norm_Inc_Approx' : '0',\n",
      "'improve' : '3'}\n"
     ]
    }
   ],
   "source": [
    "model = DialogGetModel(\"BRDF_Model\")\n",
    "print(model)"
   ]
  },
  {
   "cell_type": "code",
   "execution_count": 10,
   "metadata": {},
   "outputs": [
    {
     "name": "stdout",
     "output_type": "stream",
     "text": [
      "{None : 'Bobbert_Vlieger_BRDF_Model',\n",
      "'lambda' : '0.532',\n",
      "'substrate' : '(4.05,0.05)',\n",
      "'type' : '0',\n",
      "'density' : '1',\n",
      "'sphere' : '(1.59,0)',\n",
      "'radius' : '0.05',\n",
      "'spherecoat' : 'No_StackModel',\n",
      "'stack' : 'No_StackModel',\n",
      "'delta' : '0',\n",
      "'lmax' : '0',\n",
      "'order' : '-1',\n",
      "'Norm_Inc_Approx' : '0',\n",
      "'improve' : '3'}\n"
     ]
    }
   ],
   "source": [
    "model = DialogGetModel('BRDF_Model')\n",
    "m = DialogGetModelParameters(Model(model))\n",
    "print(model)"
   ]
  }
 ],
 "metadata": {
  "kernelspec": {
   "display_name": "Python 3",
   "language": "python",
   "name": "python3"
  },
  "language_info": {
   "codemirror_mode": {
    "name": "ipython",
    "version": 3
   },
   "file_extension": ".py",
   "mimetype": "text/x-python",
   "name": "python",
   "nbconvert_exporter": "python",
   "pygments_lexer": "ipython3",
   "version": "3.7.7"
  }
 },
 "nbformat": 4,
 "nbformat_minor": 2
}
